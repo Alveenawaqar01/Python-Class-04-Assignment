{
  "nbformat": 4,
  "nbformat_minor": 0,
  "metadata": {
    "colab": {
      "provenance": [],
      "authorship_tag": "ABX9TyPew3fJ68lfR/y3+tl8zC69",
      "include_colab_link": true
    },
    "kernelspec": {
      "name": "python3",
      "display_name": "Python 3"
    },
    "language_info": {
      "name": "python"
    }
  },
  "cells": [
    {
      "cell_type": "markdown",
      "metadata": {
        "id": "view-in-github",
        "colab_type": "text"
      },
      "source": [
        "<a href=\"https://colab.research.google.com/github/Alveenawaqar01/Python-Class-04-Assignment/blob/main/Lesson_10_File_Handling.ipynb\" target=\"_parent\"><img src=\"https://colab.research.google.com/assets/colab-badge.svg\" alt=\"Open In Colab\"/></a>"
      ]
    },
    {
      "cell_type": "markdown",
      "source": [
        "**Lesson 10: File Handling**"
      ],
      "metadata": {
        "id": "yGQmWJqJtLBl"
      }
    },
    {
      "cell_type": "code",
      "source": [
        "import os\n",
        "\n",
        "if os.path.exists(\"demo.txt\"):\n",
        "    os.remove(\"demo.txt\")\n",
        "    print(\"File deleted\")\n",
        "else:\n",
        "    print(\"File does not exist\")\n"
      ],
      "metadata": {
        "id": "loGGACoStpKF"
      },
      "execution_count": null,
      "outputs": []
    },
    {
      "cell_type": "code",
      "source": [
        "file = open(\"demo.txt\", \"r\")\n",
        "content = file.read()\n",
        "print(content)\n",
        "file.close()\n"
      ],
      "metadata": {
        "id": "hOXAlb6GtQTy"
      },
      "execution_count": null,
      "outputs": []
    }
  ]
}