{
  "nbformat": 4,
  "nbformat_minor": 0,
  "metadata": {
    "colab": {
      "provenance": [],
      "authorship_tag": "ABX9TyO6/A/PZ3lqcHdQRU3efrmQ",
      "include_colab_link": true
    },
    "kernelspec": {
      "name": "python3",
      "display_name": "Python 3"
    },
    "language_info": {
      "name": "python"
    }
  },
  "cells": [
    {
      "cell_type": "markdown",
      "metadata": {
        "id": "view-in-github",
        "colab_type": "text"
      },
      "source": [
        "<a href=\"https://colab.research.google.com/github/Alveenawaqar01/Python-Class-04-Assignment/blob/main/Lesson_11_The_Math_%26_Date_Time_Calender.ipynb\" target=\"_parent\"><img src=\"https://colab.research.google.com/assets/colab-badge.svg\" alt=\"Open In Colab\"/></a>"
      ]
    },
    {
      "cell_type": "markdown",
      "source": [
        "**Lesson 11: The Math & Date Time Calender**"
      ],
      "metadata": {
        "id": "fqojN5k8uGmr"
      }
    },
    {
      "cell_type": "code",
      "source": [
        "from datetime import datetime, date\n",
        "\n",
        "def calculate_age(birthdate):\n",
        "    today = date.today()\n",
        "    years = today.year - birthdate.year\n",
        "\n",
        "\n",
        "    if (today.month, today.day) < (birthdate.month, birthdate.day):\n",
        "        years -= 1\n",
        "    delta = today - birthdate\n",
        "    days = delta.days\n",
        "\n",
        "    print(\"🎂 Your age is:\", years, \"years\")\n",
        "    print(\"📅 Total days lived:\", days, \"days\")\n",
        "\n",
        "\n",
        "dob_input = input(\"Enter your date of birth (YYYY-MM-DD): \")\n",
        "\n",
        "try:\n",
        "    dob = datetime.strptime(dob_input, \"%Y-%m-%d\").date()\n",
        "    calculate_age(dob)\n",
        "except ValueError:\n",
        "    print(\"Invalid format! Please use YYYY-MM-DD\")\n"
      ],
      "metadata": {
        "id": "gcKf6TRuuKR4"
      },
      "execution_count": null,
      "outputs": []
    }
  ]
}